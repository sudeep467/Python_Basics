{
 "cells": [
  {
   "cell_type": "markdown",
   "id": "22ab3732",
   "metadata": {},
   "source": [
    "# Numbers"
   ]
  },
  {
   "cell_type": "code",
   "execution_count": 1,
   "id": "5457c02e",
   "metadata": {},
   "outputs": [
    {
     "data": {
      "text/plain": [
       "10"
      ]
     },
     "execution_count": 1,
     "metadata": {},
     "output_type": "execute_result"
    }
   ],
   "source": [
    "5+5"
   ]
  },
  {
   "cell_type": "code",
   "execution_count": 2,
   "id": "308904ef",
   "metadata": {},
   "outputs": [
    {
     "data": {
      "text/plain": [
       "20"
      ]
     },
     "execution_count": 2,
     "metadata": {},
     "output_type": "execute_result"
    }
   ],
   "source": [
    "10*2"
   ]
  },
  {
   "cell_type": "code",
   "execution_count": 3,
   "id": "6d96dc6c",
   "metadata": {},
   "outputs": [
    {
     "data": {
      "text/plain": [
       "2"
      ]
     },
     "execution_count": 3,
     "metadata": {},
     "output_type": "execute_result"
    }
   ],
   "source": [
    "5-3"
   ]
  },
  {
   "cell_type": "code",
   "execution_count": 4,
   "id": "b8df202b",
   "metadata": {},
   "outputs": [
    {
     "data": {
      "text/plain": [
       "4.0"
      ]
     },
     "execution_count": 4,
     "metadata": {},
     "output_type": "execute_result"
    }
   ],
   "source": [
    "8/2"
   ]
  },
  {
   "cell_type": "code",
   "execution_count": 6,
   "id": "c3aab2f7",
   "metadata": {},
   "outputs": [
    {
     "data": {
      "text/plain": [
       "7"
      ]
     },
     "execution_count": 6,
     "metadata": {},
     "output_type": "execute_result"
    }
   ],
   "source": [
    "# it is a flor function it does'nt give the decimal point\n",
    "15//2"
   ]
  },
  {
   "cell_type": "code",
   "execution_count": 7,
   "id": "d2057e76",
   "metadata": {},
   "outputs": [
    {
     "data": {
      "text/plain": [
       "0"
      ]
     },
     "execution_count": 7,
     "metadata": {},
     "output_type": "execute_result"
    }
   ],
   "source": [
    "8%2"
   ]
  },
  {
   "cell_type": "markdown",
   "id": "03f24834",
   "metadata": {},
   "source": [
    "# Variable argument"
   ]
  },
  {
   "cell_type": "code",
   "execution_count": 10,
   "id": "cf3020ce",
   "metadata": {},
   "outputs": [
    {
     "data": {
      "text/plain": [
       "5"
      ]
     },
     "execution_count": 10,
     "metadata": {},
     "output_type": "execute_result"
    }
   ],
   "source": [
    "x=5\n",
    "x"
   ]
  },
  {
   "cell_type": "code",
   "execution_count": 11,
   "id": "363c4f88",
   "metadata": {},
   "outputs": [
    {
     "data": {
      "text/plain": [
       "int"
      ]
     },
     "execution_count": 11,
     "metadata": {},
     "output_type": "execute_result"
    }
   ],
   "source": [
    "#if we want to check the data type \n",
    "type(x)"
   ]
  },
  {
   "cell_type": "code",
   "execution_count": 12,
   "id": "7732049c",
   "metadata": {},
   "outputs": [],
   "source": [
    "my_income = 100\n",
    "tax_rate = 0.1\n",
    "My_taxes = my_income*tax_rate"
   ]
  },
  {
   "cell_type": "code",
   "execution_count": 13,
   "id": "6f8bd2d3",
   "metadata": {},
   "outputs": [
    {
     "data": {
      "text/plain": [
       "10.0"
      ]
     },
     "execution_count": 13,
     "metadata": {},
     "output_type": "execute_result"
    }
   ],
   "source": [
    "My_taxes"
   ]
  },
  {
   "cell_type": "markdown",
   "id": "4b8b7aef",
   "metadata": {},
   "source": [
    "# introductin to strings"
   ]
  },
  {
   "cell_type": "code",
   "execution_count": 14,
   "id": "a0d5210d",
   "metadata": {},
   "outputs": [
    {
     "data": {
      "text/plain": [
       "'hello world'"
      ]
     },
     "execution_count": 14,
     "metadata": {},
     "output_type": "execute_result"
    }
   ],
   "source": [
    "'hello world'"
   ]
  },
  {
   "cell_type": "code",
   "execution_count": 15,
   "id": "d4f2ae57",
   "metadata": {},
   "outputs": [
    {
     "name": "stdout",
     "output_type": "stream",
     "text": [
      "hello world\n"
     ]
    }
   ],
   "source": [
    "print('hello world')"
   ]
  },
  {
   "cell_type": "code",
   "execution_count": 16,
   "id": "83d3d5c5",
   "metadata": {},
   "outputs": [
    {
     "data": {
      "text/plain": [
       "11"
      ]
     },
     "execution_count": 16,
     "metadata": {},
     "output_type": "execute_result"
    }
   ],
   "source": [
    "#if we wnat to check the length of the string \n",
    "len('hello world')"
   ]
  },
  {
   "cell_type": "code",
   "execution_count": 17,
   "id": "eef5dfb9",
   "metadata": {},
   "outputs": [],
   "source": [
    "# Sting indexing slicing and stepping"
   ]
  },
  {
   "cell_type": "code",
   "execution_count": 18,
   "id": "8fd29626",
   "metadata": {},
   "outputs": [],
   "source": [
    "My_string = 'hello world'"
   ]
  },
  {
   "cell_type": "code",
   "execution_count": 19,
   "id": "727ac2a5",
   "metadata": {},
   "outputs": [
    {
     "data": {
      "text/plain": [
       "'h'"
      ]
     },
     "execution_count": 19,
     "metadata": {},
     "output_type": "execute_result"
    }
   ],
   "source": [
    "#indexing\n",
    "My_string[0]"
   ]
  },
  {
   "cell_type": "code",
   "execution_count": 20,
   "id": "de441016",
   "metadata": {},
   "outputs": [
    {
     "data": {
      "text/plain": [
       "'ello '"
      ]
     },
     "execution_count": 20,
     "metadata": {},
     "output_type": "execute_result"
    }
   ],
   "source": [
    "#slicing\n",
    "My_string[1:6]"
   ]
  },
  {
   "cell_type": "code",
   "execution_count": 21,
   "id": "8d10cc40",
   "metadata": {},
   "outputs": [
    {
     "data": {
      "text/plain": [
       "'hlow'"
      ]
     },
     "execution_count": 21,
     "metadata": {},
     "output_type": "execute_result"
    }
   ],
   "source": [
    "#stepping\n",
    "My_string[0:8:2]"
   ]
  },
  {
   "cell_type": "code",
   "execution_count": 24,
   "id": "2627912f",
   "metadata": {},
   "outputs": [
    {
     "data": {
      "text/plain": [
       "'pam'"
      ]
     },
     "execution_count": 24,
     "metadata": {},
     "output_type": "execute_result"
    }
   ],
   "source": [
    "# string is immutable\n",
    "name='sam'\n",
    "last_letter = name[1:]\n",
    "'p'+last_letter"
   ]
  },
  {
   "cell_type": "code",
   "execution_count": 25,
   "id": "bca3cd1f",
   "metadata": {},
   "outputs": [
    {
     "data": {
      "text/plain": [
       "'SUDEEP'"
      ]
     },
     "execution_count": 25,
     "metadata": {},
     "output_type": "execute_result"
    }
   ],
   "source": [
    "x='sudeep'\n",
    "x.upper()"
   ]
  },
  {
   "cell_type": "code",
   "execution_count": 26,
   "id": "031e1d0c",
   "metadata": {},
   "outputs": [
    {
     "data": {
      "text/plain": [
       "'sam'"
      ]
     },
     "execution_count": 26,
     "metadata": {},
     "output_type": "execute_result"
    }
   ],
   "source": [
    "y='SAM'\n",
    "y.lower()"
   ]
  },
  {
   "cell_type": "code",
   "execution_count": 27,
   "id": "6c7f1194",
   "metadata": {},
   "outputs": [
    {
     "data": {
      "text/plain": [
       "['hello', 'world']"
      ]
     },
     "execution_count": 27,
     "metadata": {},
     "output_type": "execute_result"
    }
   ],
   "source": [
    "x='hello world'\n",
    "x.split()"
   ]
  },
  {
   "cell_type": "code",
   "execution_count": 28,
   "id": "358c1278",
   "metadata": {},
   "outputs": [
    {
     "name": "stdout",
     "output_type": "stream",
     "text": [
      "welcome Sudeep\n"
     ]
    }
   ],
   "source": [
    "# String Formating\n",
    "# 1) .format()\n",
    "# 2) fstring()\n",
    "X  = \"Sudeep\"\n",
    "print('welcome {}'.format(X))"
   ]
  },
  {
   "cell_type": "code",
   "execution_count": 31,
   "id": "d9df68f4",
   "metadata": {},
   "outputs": [
    {
     "name": "stdout",
     "output_type": "stream",
     "text": [
      "i love Python \n"
     ]
    }
   ],
   "source": [
    "x=\"Python\"\n",
    "print(f'i love {x} ')"
   ]
  },
  {
   "cell_type": "markdown",
   "id": "1d421c44",
   "metadata": {},
   "source": [
    "# List"
   ]
  },
  {
   "cell_type": "code",
   "execution_count": 32,
   "id": "dc092c52",
   "metadata": {},
   "outputs": [],
   "source": [
    "my_list = [1,2,3,4,5,6,7]"
   ]
  },
  {
   "cell_type": "code",
   "execution_count": 33,
   "id": "3e6eae84",
   "metadata": {},
   "outputs": [
    {
     "data": {
      "text/plain": [
       "[1, 2, 3, 4, 5, 6, 7]"
      ]
     },
     "execution_count": 33,
     "metadata": {},
     "output_type": "execute_result"
    }
   ],
   "source": [
    "my_list"
   ]
  },
  {
   "cell_type": "code",
   "execution_count": 34,
   "id": "920fce07",
   "metadata": {},
   "outputs": [],
   "source": [
    "my_list[0]='ONE'"
   ]
  },
  {
   "cell_type": "code",
   "execution_count": 35,
   "id": "38b58f1e",
   "metadata": {},
   "outputs": [
    {
     "data": {
      "text/plain": [
       "['ONE', 2, 3, 4, 5, 6, 7]"
      ]
     },
     "execution_count": 35,
     "metadata": {},
     "output_type": "execute_result"
    }
   ],
   "source": [
    "my_list"
   ]
  },
  {
   "cell_type": "code",
   "execution_count": 36,
   "id": "58a03ce2",
   "metadata": {},
   "outputs": [
    {
     "data": {
      "text/plain": [
       "[1, 2, 3, 4, 5, 6, 7, 8, 9, 10]"
      ]
     },
     "execution_count": 36,
     "metadata": {},
     "output_type": "execute_result"
    }
   ],
   "source": [
    "#list concatination\n",
    "list1=[1,2,3,4,5,6]\n",
    "list2=[7,8,9,10]\n",
    "list1+list2"
   ]
  },
  {
   "cell_type": "code",
   "execution_count": 37,
   "id": "649e90cd",
   "metadata": {},
   "outputs": [],
   "source": [
    "new_list=[1,2,3,4,5,6]\n",
    "# if you want to insert the elemenyt use append() function\n",
    "new_list.append(7)"
   ]
  },
  {
   "cell_type": "code",
   "execution_count": 39,
   "id": "648bc5e3",
   "metadata": {},
   "outputs": [
    {
     "data": {
      "text/plain": [
       "[1, 2, 3, 4, 5, 6, 7]"
      ]
     },
     "execution_count": 39,
     "metadata": {},
     "output_type": "execute_result"
    }
   ],
   "source": [
    "# 7 get append\n",
    "new_list"
   ]
  },
  {
   "cell_type": "code",
   "execution_count": 42,
   "id": "40e7d7d5",
   "metadata": {},
   "outputs": [
    {
     "data": {
      "text/plain": [
       "5"
      ]
     },
     "execution_count": 42,
     "metadata": {},
     "output_type": "execute_result"
    }
   ],
   "source": [
    "# i you want to remove the element use pop() function\n",
    "new_list.pop()"
   ]
  },
  {
   "cell_type": "code",
   "execution_count": 43,
   "id": "49899341",
   "metadata": {},
   "outputs": [],
   "source": [
    "# for sorting the list\n",
    "new_list1=[2,1,3,7,5,6,4,8]\n",
    "new_list1.sort()"
   ]
  },
  {
   "cell_type": "code",
   "execution_count": 44,
   "id": "dce83977",
   "metadata": {},
   "outputs": [
    {
     "data": {
      "text/plain": [
       "[1, 2, 3, 4, 5, 6, 7, 8]"
      ]
     },
     "execution_count": 44,
     "metadata": {},
     "output_type": "execute_result"
    }
   ],
   "source": [
    "new_list1"
   ]
  },
  {
   "cell_type": "code",
   "execution_count": 45,
   "id": "3c373c3d",
   "metadata": {},
   "outputs": [],
   "source": [
    "# for reversing the list\n",
    "new_list1.reverse()"
   ]
  },
  {
   "cell_type": "code",
   "execution_count": 46,
   "id": "638f53d4",
   "metadata": {},
   "outputs": [
    {
     "data": {
      "text/plain": [
       "[8, 7, 6, 5, 4, 3, 2, 1]"
      ]
     },
     "execution_count": 46,
     "metadata": {},
     "output_type": "execute_result"
    }
   ],
   "source": [
    "new_list1"
   ]
  },
  {
   "cell_type": "markdown",
   "id": "2f22f24a",
   "metadata": {},
   "source": [
    "# Dictionaries "
   ]
  },
  {
   "cell_type": "code",
   "execution_count": 47,
   "id": "6fac70c6",
   "metadata": {},
   "outputs": [],
   "source": [
    "dict1 = {'key1':'val1','key2':'val2','key3':'val3'}"
   ]
  },
  {
   "cell_type": "code",
   "execution_count": 48,
   "id": "0ff589e2",
   "metadata": {},
   "outputs": [
    {
     "data": {
      "text/plain": [
       "{'key1': 'val1', 'key2': 'val2', 'key3': 'val3'}"
      ]
     },
     "execution_count": 48,
     "metadata": {},
     "output_type": "execute_result"
    }
   ],
   "source": [
    "dict1"
   ]
  },
  {
   "cell_type": "code",
   "execution_count": 49,
   "id": "919bb617",
   "metadata": {},
   "outputs": [],
   "source": [
    "price_lookup = {'apple':200,'orange':150,'milk':20}"
   ]
  },
  {
   "cell_type": "code",
   "execution_count": 50,
   "id": "a3b48550",
   "metadata": {},
   "outputs": [
    {
     "data": {
      "text/plain": [
       "{'apple': 200, 'orange': 150, 'milk': 20}"
      ]
     },
     "execution_count": 50,
     "metadata": {},
     "output_type": "execute_result"
    }
   ],
   "source": [
    "price_lookup"
   ]
  },
  {
   "cell_type": "code",
   "execution_count": 51,
   "id": "75db7f35",
   "metadata": {},
   "outputs": [
    {
     "data": {
      "text/plain": [
       "dict_keys(['apple', 'orange', 'milk'])"
      ]
     },
     "execution_count": 51,
     "metadata": {},
     "output_type": "execute_result"
    }
   ],
   "source": [
    "price_lookup.keys()"
   ]
  },
  {
   "cell_type": "code",
   "execution_count": 52,
   "id": "f840537e",
   "metadata": {},
   "outputs": [
    {
     "data": {
      "text/plain": [
       "dict_values([200, 150, 20])"
      ]
     },
     "execution_count": 52,
     "metadata": {},
     "output_type": "execute_result"
    }
   ],
   "source": [
    "price_lookup.values()"
   ]
  },
  {
   "cell_type": "code",
   "execution_count": 53,
   "id": "b6581e80",
   "metadata": {},
   "outputs": [
    {
     "data": {
      "text/plain": [
       "dict_items([('apple', 200), ('orange', 150), ('milk', 20)])"
      ]
     },
     "execution_count": 53,
     "metadata": {},
     "output_type": "execute_result"
    }
   ],
   "source": [
    "price_lookup.items()"
   ]
  },
  {
   "cell_type": "markdown",
   "id": "9d406855",
   "metadata": {},
   "source": [
    "# Tuples"
   ]
  },
  {
   "cell_type": "markdown",
   "id": "21213ba9",
   "metadata": {},
   "source": [
    "# tuple is similar to list but tuples are immutable"
   ]
  },
  {
   "cell_type": "code",
   "execution_count": 55,
   "id": "bbd5ab45",
   "metadata": {},
   "outputs": [],
   "source": [
    "t = (1,2,3,4,5,6)"
   ]
  },
  {
   "cell_type": "code",
   "execution_count": 56,
   "id": "fb185f36",
   "metadata": {},
   "outputs": [
    {
     "data": {
      "text/plain": [
       "(1, 2, 3, 4, 5, 6)"
      ]
     },
     "execution_count": 56,
     "metadata": {},
     "output_type": "execute_result"
    }
   ],
   "source": [
    "t"
   ]
  },
  {
   "cell_type": "code",
   "execution_count": 57,
   "id": "9d65ed1b",
   "metadata": {},
   "outputs": [
    {
     "data": {
      "text/plain": [
       "tuple"
      ]
     },
     "execution_count": 57,
     "metadata": {},
     "output_type": "execute_result"
    }
   ],
   "source": [
    "type(t)"
   ]
  },
  {
   "cell_type": "code",
   "execution_count": 62,
   "id": "f55bd9b7",
   "metadata": {},
   "outputs": [
    {
     "data": {
      "text/plain": [
       "6"
      ]
     },
     "execution_count": 62,
     "metadata": {},
     "output_type": "execute_result"
    }
   ],
   "source": [
    "t = (1,1,1,1,1,1,2,2,2,2,3,3,3,)\n",
    "t.count(1)"
   ]
  },
  {
   "cell_type": "markdown",
   "id": "fd0b4356",
   "metadata": {},
   "source": [
    "# sets "
   ]
  },
  {
   "cell_type": "code",
   "execution_count": 63,
   "id": "444acb39",
   "metadata": {},
   "outputs": [],
   "source": [
    "my_set = set()\n",
    "my_set.add(1)"
   ]
  },
  {
   "cell_type": "code",
   "execution_count": 64,
   "id": "6ae2001a",
   "metadata": {},
   "outputs": [
    {
     "data": {
      "text/plain": [
       "{1}"
      ]
     },
     "execution_count": 64,
     "metadata": {},
     "output_type": "execute_result"
    }
   ],
   "source": [
    "my_set"
   ]
  },
  {
   "cell_type": "code",
   "execution_count": 66,
   "id": "77208d18",
   "metadata": {},
   "outputs": [
    {
     "data": {
      "text/plain": [
       "{1, 2}"
      ]
     },
     "execution_count": 66,
     "metadata": {},
     "output_type": "execute_result"
    }
   ],
   "source": [
    "my_set.add(2)\n",
    "my_set"
   ]
  },
  {
   "cell_type": "code",
   "execution_count": 70,
   "id": "1bc9a3a1",
   "metadata": {},
   "outputs": [
    {
     "data": {
      "text/plain": [
       "{1, 2, 3, 4, 5, 6}"
      ]
     },
     "execution_count": 70,
     "metadata": {},
     "output_type": "execute_result"
    }
   ],
   "source": [
    "my_list = [1,2,1,1,1,1,2,2,2,2,3,3,3,3,4,4,4,5,6,6,]\n",
    "set(my_list)"
   ]
  },
  {
   "cell_type": "markdown",
   "id": "85606de5",
   "metadata": {},
   "source": [
    "# Boolean"
   ]
  },
  {
   "cell_type": "code",
   "execution_count": 71,
   "id": "a3fd2994",
   "metadata": {},
   "outputs": [
    {
     "data": {
      "text/plain": [
       "True"
      ]
     },
     "execution_count": 71,
     "metadata": {},
     "output_type": "execute_result"
    }
   ],
   "source": [
    "1==1"
   ]
  },
  {
   "cell_type": "code",
   "execution_count": 72,
   "id": "8ffc7d4e",
   "metadata": {},
   "outputs": [
    {
     "data": {
      "text/plain": [
       "False"
      ]
     },
     "execution_count": 72,
     "metadata": {},
     "output_type": "execute_result"
    }
   ],
   "source": [
    "1>6"
   ]
  },
  {
   "cell_type": "code",
   "execution_count": 73,
   "id": "522d0660",
   "metadata": {},
   "outputs": [
    {
     "data": {
      "text/plain": [
       "False"
      ]
     },
     "execution_count": 73,
     "metadata": {},
     "output_type": "execute_result"
    }
   ],
   "source": [
    "3!=3"
   ]
  },
  {
   "cell_type": "code",
   "execution_count": 74,
   "id": "49120ad2",
   "metadata": {},
   "outputs": [
    {
     "data": {
      "text/plain": [
       "False"
      ]
     },
     "execution_count": 74,
     "metadata": {},
     "output_type": "execute_result"
    }
   ],
   "source": [
    "('h'=='h') and ('k'=='K')"
   ]
  },
  {
   "cell_type": "markdown",
   "id": "0e5e7040",
   "metadata": {},
   "source": [
    "#  if elif and else statements"
   ]
  },
  {
   "cell_type": "code",
   "execution_count": 76,
   "id": "1054f5f6",
   "metadata": {},
   "outputs": [
    {
     "name": "stdout",
     "output_type": "stream",
     "text": [
      "the person is tall\n"
     ]
    }
   ],
   "source": [
    "hgt = 15\n",
    "if hgt ==12:\n",
    "    print(\"the person is short\")\n",
    "elif hgt ==15:\n",
    "    print('the person is tall')"
   ]
  },
  {
   "cell_type": "code",
   "execution_count": 77,
   "id": "3b51b0c0",
   "metadata": {},
   "outputs": [
    {
     "name": "stdout",
     "output_type": "stream",
     "text": [
      "welcome Sudeep\n"
     ]
    }
   ],
   "source": [
    "name = 'Sudeep'\n",
    "if name == 'Sandeep':\n",
    "    print(\"hello sandeep\")\n",
    "elif name=='Sudeep':\n",
    "    print(\"welcome Sudeep\")\n",
    "else:\n",
    "    print(\"i don't know\")"
   ]
  },
  {
   "cell_type": "markdown",
   "id": "dd119284",
   "metadata": {},
   "source": [
    "#  For loop"
   ]
  },
  {
   "cell_type": "code",
   "execution_count": 89,
   "id": "e95c62c2",
   "metadata": {},
   "outputs": [
    {
     "name": "stdout",
     "output_type": "stream",
     "text": [
      "odd number 1 \n",
      "\n",
      "even number 2 \n",
      "\n",
      "odd number 3 \n",
      "\n",
      "even number 4 \n",
      "\n",
      "odd number 5 \n",
      "\n",
      "even number 6 \n",
      "\n",
      "odd number 7 \n",
      "\n",
      "even number 8 \n",
      "\n",
      "odd number 9 \n",
      "\n"
     ]
    }
   ],
   "source": [
    "my_list = [1,2,3,4,5,6,7,8,9]\n",
    "for num in my_list:\n",
    "    if num%2==0:\n",
    "        print(f'even number {num} \\n')\n",
    "    else:\n",
    "        print(f'odd number {num} \\n')"
   ]
  },
  {
   "cell_type": "code",
   "execution_count": 90,
   "id": "5bf9d33c",
   "metadata": {},
   "outputs": [
    {
     "name": "stdout",
     "output_type": "stream",
     "text": [
      "0\n",
      "1\n",
      "2\n",
      "3\n",
      "4\n",
      "5\n",
      "6\n",
      "7\n",
      "8\n",
      "9\n"
     ]
    }
   ],
   "source": [
    "for num in range(10):\n",
    "    print(num)"
   ]
  },
  {
   "cell_type": "markdown",
   "id": "5b4c7955",
   "metadata": {},
   "source": [
    "#  while Loop"
   ]
  },
  {
   "cell_type": "code",
   "execution_count": 93,
   "id": "5b5c38ce",
   "metadata": {},
   "outputs": [
    {
     "name": "stdout",
     "output_type": "stream",
     "text": [
      "the current value of x is 5\n",
      "x is not less than 5\n"
     ]
    }
   ],
   "source": [
    "x=5\n",
    "while x<=5:\n",
    "    print(f'the current value of x is {x}')\n",
    "    x=x+1\n",
    "else:\n",
    "    print('x is not less than 5')"
   ]
  },
  {
   "cell_type": "code",
   "execution_count": 94,
   "id": "1ae08353",
   "metadata": {},
   "outputs": [
    {
     "name": "stdout",
     "output_type": "stream",
     "text": [
      "(0, 'a')\n",
      "(1, 'b')\n",
      "(2, 'c')\n",
      "(3, 'd')\n",
      "(4, 'e')\n",
      "(5, 'f')\n"
     ]
    }
   ],
   "source": [
    "#Enumarator\n",
    "word = 'abcdef'\n",
    "for item in enumerate(word):\n",
    "    print(item)"
   ]
  },
  {
   "cell_type": "code",
   "execution_count": 97,
   "id": "46bb9a68",
   "metadata": {},
   "outputs": [
    {
     "data": {
      "text/plain": [
       "True"
      ]
     },
     "execution_count": 97,
     "metadata": {},
     "output_type": "execute_result"
    }
   ],
   "source": [
    "# in keyword\n",
    "'a' in 'a world'"
   ]
  },
  {
   "cell_type": "code",
   "execution_count": 98,
   "id": "0ab3b902",
   "metadata": {},
   "outputs": [],
   "source": [
    "# List comprehension"
   ]
  },
  {
   "cell_type": "code",
   "execution_count": 99,
   "id": "754b7b78",
   "metadata": {},
   "outputs": [
    {
     "name": "stdout",
     "output_type": "stream",
     "text": [
      "[200, 400, 600]\n",
      "[200, 400, 600, 400, 800, 1200]\n",
      "[200, 400, 600, 400, 800, 1200, 600, 1200, 1800]\n"
     ]
    }
   ],
   "source": [
    "my_list = []\n",
    "for x in [2,4,6]:\n",
    "    for y in [100,200,300]:\n",
    "        my_list.append(x*y)\n",
    "    print(my_list)"
   ]
  },
  {
   "cell_type": "code",
   "execution_count": 100,
   "id": "86412b3f",
   "metadata": {},
   "outputs": [
    {
     "name": "stdout",
     "output_type": "stream",
     "text": [
      "[200, 400, 600, 400, 800, 1200, 600, 1200, 1800]\n"
     ]
    }
   ],
   "source": [
    "#list comprehension\n",
    "my_list = [x*y for x in [2,4,6] for y in [100,200,300]]\n",
    "print(my_list)"
   ]
  },
  {
   "cell_type": "code",
   "execution_count": 101,
   "id": "6562288f",
   "metadata": {},
   "outputs": [
    {
     "name": "stdout",
     "output_type": "stream",
     "text": [
      "[0, 1, 2, 3, 4, 5, 6, 7, 8, 9]\n"
     ]
    }
   ],
   "source": [
    "my_list = [x for x in range(10)]\n",
    "print(my_list)"
   ]
  },
  {
   "cell_type": "code",
   "execution_count": 102,
   "id": "a5071d8b",
   "metadata": {},
   "outputs": [
    {
     "name": "stdout",
     "output_type": "stream",
     "text": [
      "[0, 4, 16, 36, 64, 100]\n"
     ]
    }
   ],
   "source": [
    "my_list = [x**2 for x in range(0,11) if x%2==0]\n",
    "print(my_list)"
   ]
  },
  {
   "cell_type": "code",
   "execution_count": 103,
   "id": "dc5f9e55",
   "metadata": {},
   "outputs": [
    {
     "name": "stdout",
     "output_type": "stream",
     "text": [
      "[32.0, 50.0, 68.0, 86.0, 104.0, 122.0, 140.0, 158.0, 176.0, 194.0]\n"
     ]
    }
   ],
   "source": [
    "celcius = [0,10,20,30,40,50,60,70,80,90]\n",
    "fahrenheit = [((9/5)*temp+32) for temp in celcius]\n",
    "print(fahrenheit)"
   ]
  },
  {
   "cell_type": "markdown",
   "id": "ab511bf5",
   "metadata": {},
   "source": [
    "# Functions in Python"
   ]
  },
  {
   "cell_type": "code",
   "execution_count": 104,
   "id": "cb7146b4",
   "metadata": {},
   "outputs": [],
   "source": [
    "def add(a,b):\n",
    "    return a+b"
   ]
  },
  {
   "cell_type": "code",
   "execution_count": 105,
   "id": "6635ed2f",
   "metadata": {},
   "outputs": [
    {
     "data": {
      "text/plain": [
       "15"
      ]
     },
     "execution_count": 105,
     "metadata": {},
     "output_type": "execute_result"
    }
   ],
   "source": [
    "add(5,10)"
   ]
  },
  {
   "cell_type": "code",
   "execution_count": 106,
   "id": "d4568bd3",
   "metadata": {},
   "outputs": [],
   "source": [
    "def odd_or_evevn(num):\n",
    "    if num%2==0:\n",
    "        print(\"the number is even\")\n",
    "    else:\n",
    "        print(\"the number is odd\")"
   ]
  },
  {
   "cell_type": "code",
   "execution_count": 107,
   "id": "89350c6c",
   "metadata": {},
   "outputs": [
    {
     "name": "stdout",
     "output_type": "stream",
     "text": [
      "the number is even\n"
     ]
    }
   ],
   "source": [
    "odd_or_evevn(50)"
   ]
  },
  {
   "cell_type": "code",
   "execution_count": 2,
   "id": "4fb7fab4",
   "metadata": {},
   "outputs": [
    {
     "name": "stdout",
     "output_type": "stream",
     "text": [
      "enter the principal amount  5000\n",
      "enter the rate   5\n",
      "enter the time   2\n",
      "5000\n",
      "5\n",
      "2\n",
      "the simple intrest is 500.0\n"
     ]
    }
   ],
   "source": [
    "# takin input from the user\n",
    "p = int(input(\"enter the principal amount  \"))\n",
    "r = int(input(\"enter the rate   \"))\n",
    "t = int(input(\"enter the time   \"))\n",
    "print(p)\n",
    "print(r)\n",
    "print(t)\n",
    "si = p*t*r/100\n",
    "print(\"the simple intrest is {}\".format(si))"
   ]
  },
  {
   "cell_type": "markdown",
   "id": "a77a939e",
   "metadata": {},
   "source": [
    "#  *args and **kwargs"
   ]
  },
  {
   "cell_type": "code",
   "execution_count": 3,
   "id": "d31cd429",
   "metadata": {},
   "outputs": [
    {
     "data": {
      "text/plain": [
       "12.5"
      ]
     },
     "execution_count": 3,
     "metadata": {},
     "output_type": "execute_result"
    }
   ],
   "source": [
    "def myfun(*args):\n",
    "    return sum(args)*0.05\n",
    "myfun(40,50,60,100)"
   ]
  },
  {
   "cell_type": "code",
   "execution_count": 4,
   "id": "dd05a09d",
   "metadata": {},
   "outputs": [],
   "source": [
    "def mufun(**kwargs):\n",
    "    if 'fruit' in kwargs:\n",
    "        print('My fruit of choice is {}'.format(kwargs[fruit]))\n",
    "    else:\n",
    "        print('i did not find any fruit')\n",
    "        "
   ]
  },
  {
   "cell_type": "code",
   "execution_count": null,
   "id": "e549618a",
   "metadata": {},
   "outputs": [],
   "source": []
  },
  {
   "cell_type": "code",
   "execution_count": null,
   "id": "c9244d54",
   "metadata": {},
   "outputs": [],
   "source": []
  },
  {
   "cell_type": "markdown",
   "id": "484c76ec",
   "metadata": {},
   "source": [
    "# Lambda expression , map , filter "
   ]
  },
  {
   "cell_type": "code",
   "execution_count": 10,
   "id": "cb6a9d56",
   "metadata": {},
   "outputs": [
    {
     "name": "stdout",
     "output_type": "stream",
     "text": [
      "1\n",
      "4\n",
      "9\n",
      "16\n",
      "25\n"
     ]
    }
   ],
   "source": [
    "def square(num):\n",
    "    return num**2\n",
    "my_num=[1,2,3,4,5]\n",
    "for item in map(square,my_num):\n",
    "    print(item)"
   ]
  },
  {
   "cell_type": "code",
   "execution_count": 20,
   "id": "49077b7a",
   "metadata": {},
   "outputs": [
    {
     "data": {
      "text/plain": [
       "[1, 4, 9, 16, 25]"
      ]
     },
     "execution_count": 20,
     "metadata": {},
     "output_type": "execute_result"
    }
   ],
   "source": [
    "def square(num):\n",
    "    return num**2\n",
    "my_num=[1,2,3,4,5]\n",
    "list(map(square,my_num))"
   ]
  },
  {
   "cell_type": "code",
   "execution_count": 21,
   "id": "41866ea0",
   "metadata": {},
   "outputs": [
    {
     "data": {
      "text/plain": [
       "25"
      ]
     },
     "execution_count": 21,
     "metadata": {},
     "output_type": "execute_result"
    }
   ],
   "source": [
    "def square(num):\n",
    "    return num**2\n",
    "square(5)"
   ]
  },
  {
   "cell_type": "code",
   "execution_count": 24,
   "id": "7d72d4d9",
   "metadata": {},
   "outputs": [
    {
     "data": {
      "text/plain": [
       "25"
      ]
     },
     "execution_count": 24,
     "metadata": {},
     "output_type": "execute_result"
    }
   ],
   "source": [
    "square = lambda num : num**2\n",
    "square(5)"
   ]
  },
  {
   "cell_type": "code",
   "execution_count": 27,
   "id": "8b1a458b",
   "metadata": {},
   "outputs": [
    {
     "data": {
      "text/plain": [
       "[10, 56, 42, 32, 80]"
      ]
     },
     "execution_count": 27,
     "metadata": {},
     "output_type": "execute_result"
    }
   ],
   "source": [
    "def check_even(num):\n",
    "    return num%2==0\n",
    "my_num = [10,56,42,32,80,41,21,33,71]\n",
    "list(filter(check_even,my_num))\n",
    "    "
   ]
  },
  {
   "cell_type": "markdown",
   "id": "ee96050f",
   "metadata": {},
   "source": [
    "# Objet Oriented Programming"
   ]
  },
  {
   "cell_type": "markdown",
   "id": "a1f2a47c",
   "metadata": {},
   "source": [
    "# Class and object"
   ]
  },
  {
   "cell_type": "code",
   "execution_count": null,
   "id": "89e119c3",
   "metadata": {},
   "outputs": [],
   "source": []
  },
  {
   "cell_type": "markdown",
   "id": "82c0e1c2",
   "metadata": {},
   "source": []
  },
  {
   "cell_type": "code",
   "execution_count": 65,
   "id": "a2a3850d",
   "metadata": {},
   "outputs": [],
   "source": [
    "class Dog():\n",
    "    def __init__(self,breed):\n",
    "        self.breed = breed"
   ]
  },
  {
   "cell_type": "code",
   "execution_count": 66,
   "id": "da671227",
   "metadata": {},
   "outputs": [
    {
     "data": {
      "text/plain": [
       "'lab'"
      ]
     },
     "execution_count": 66,
     "metadata": {},
     "output_type": "execute_result"
    }
   ],
   "source": [
    "my_dog = Dog(breed='lab')\n",
    "my_dog.breed"
   ]
  },
  {
   "cell_type": "code",
   "execution_count": 68,
   "id": "1612a0dd",
   "metadata": {},
   "outputs": [],
   "source": [
    "class circle():\n",
    "    pi=3.14\n",
    "    def __init__(self,radius=1):\n",
    "        self.radius=radius\n",
    "    def get_circumferance(self):\n",
    "        return self.radius*self.pi*2\n",
    "    "
   ]
  },
  {
   "cell_type": "code",
   "execution_count": 70,
   "id": "6ba3b772",
   "metadata": {},
   "outputs": [
    {
     "data": {
      "text/plain": [
       "188.4"
      ]
     },
     "execution_count": 70,
     "metadata": {},
     "output_type": "execute_result"
    }
   ],
   "source": [
    "my_circle=circle(30)\n",
    "my_circle.get_circumferance()"
   ]
  },
  {
   "cell_type": "code",
   "execution_count": 73,
   "id": "b841d5d2",
   "metadata": {},
   "outputs": [],
   "source": [
    "def gen_fibon(n):\n",
    "    a=1\n",
    "    b=1\n",
    "    for i in range(n):\n",
    "        yield a\n",
    "        a,b=b,a+b"
   ]
  },
  {
   "cell_type": "code",
   "execution_count": 74,
   "id": "999d7948",
   "metadata": {},
   "outputs": [
    {
     "name": "stdout",
     "output_type": "stream",
     "text": [
      "1\n",
      "1\n",
      "2\n",
      "3\n",
      "5\n",
      "8\n",
      "13\n",
      "21\n",
      "34\n",
      "55\n"
     ]
    }
   ],
   "source": [
    "for number in gen_fibon(10):\n",
    "    print(number)"
   ]
  },
  {
   "cell_type": "code",
   "execution_count": 75,
   "id": "c07f20ef",
   "metadata": {},
   "outputs": [],
   "source": [
    "def cubes(n):\n",
    "    for x in range(n):\n",
    "        yield x**3\n",
    "        "
   ]
  },
  {
   "cell_type": "code",
   "execution_count": 76,
   "id": "a0080410",
   "metadata": {},
   "outputs": [
    {
     "name": "stdout",
     "output_type": "stream",
     "text": [
      "0\n",
      "1\n",
      "8\n",
      "27\n",
      "64\n",
      "125\n",
      "216\n",
      "343\n",
      "512\n",
      "729\n"
     ]
    }
   ],
   "source": [
    "for x in cubes(10):\n",
    "    print(x)"
   ]
  },
  {
   "cell_type": "code",
   "execution_count": null,
   "id": "bc66b8da",
   "metadata": {},
   "outputs": [],
   "source": []
  }
 ],
 "metadata": {
  "kernelspec": {
   "display_name": "Python 3",
   "language": "python",
   "name": "python3"
  },
  "language_info": {
   "codemirror_mode": {
    "name": "ipython",
    "version": 3
   },
   "file_extension": ".py",
   "mimetype": "text/x-python",
   "name": "python",
   "nbconvert_exporter": "python",
   "pygments_lexer": "ipython3",
   "version": "3.8.8"
  }
 },
 "nbformat": 4,
 "nbformat_minor": 5
}
